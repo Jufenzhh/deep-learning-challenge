{
 "cells": [
  {
   "cell_type": "markdown",
   "metadata": {},
   "source": [
    "## Preprocessing"
   ]
  },
  {
   "cell_type": "code",
   "execution_count": 1,
   "metadata": {},
   "outputs": [
    {
     "data": {
      "text/html": [
       "<div>\n",
       "<style scoped>\n",
       "    .dataframe tbody tr th:only-of-type {\n",
       "        vertical-align: middle;\n",
       "    }\n",
       "\n",
       "    .dataframe tbody tr th {\n",
       "        vertical-align: top;\n",
       "    }\n",
       "\n",
       "    .dataframe thead th {\n",
       "        text-align: right;\n",
       "    }\n",
       "</style>\n",
       "<table border=\"1\" class=\"dataframe\">\n",
       "  <thead>\n",
       "    <tr style=\"text-align: right;\">\n",
       "      <th></th>\n",
       "      <th>EIN</th>\n",
       "      <th>NAME</th>\n",
       "      <th>APPLICATION_TYPE</th>\n",
       "      <th>AFFILIATION</th>\n",
       "      <th>CLASSIFICATION</th>\n",
       "      <th>USE_CASE</th>\n",
       "      <th>ORGANIZATION</th>\n",
       "      <th>STATUS</th>\n",
       "      <th>INCOME_AMT</th>\n",
       "      <th>SPECIAL_CONSIDERATIONS</th>\n",
       "      <th>ASK_AMT</th>\n",
       "      <th>IS_SUCCESSFUL</th>\n",
       "    </tr>\n",
       "  </thead>\n",
       "  <tbody>\n",
       "    <tr>\n",
       "      <th>0</th>\n",
       "      <td>10520599</td>\n",
       "      <td>BLUE KNIGHTS MOTORCYCLE CLUB</td>\n",
       "      <td>T10</td>\n",
       "      <td>Independent</td>\n",
       "      <td>C1000</td>\n",
       "      <td>ProductDev</td>\n",
       "      <td>Association</td>\n",
       "      <td>1</td>\n",
       "      <td>0</td>\n",
       "      <td>N</td>\n",
       "      <td>5000</td>\n",
       "      <td>1</td>\n",
       "    </tr>\n",
       "    <tr>\n",
       "      <th>1</th>\n",
       "      <td>10531628</td>\n",
       "      <td>AMERICAN CHESAPEAKE CLUB CHARITABLE TR</td>\n",
       "      <td>T3</td>\n",
       "      <td>Independent</td>\n",
       "      <td>C2000</td>\n",
       "      <td>Preservation</td>\n",
       "      <td>Co-operative</td>\n",
       "      <td>1</td>\n",
       "      <td>1-9999</td>\n",
       "      <td>N</td>\n",
       "      <td>108590</td>\n",
       "      <td>1</td>\n",
       "    </tr>\n",
       "    <tr>\n",
       "      <th>2</th>\n",
       "      <td>10547893</td>\n",
       "      <td>ST CLOUD PROFESSIONAL FIREFIGHTERS</td>\n",
       "      <td>T5</td>\n",
       "      <td>CompanySponsored</td>\n",
       "      <td>C3000</td>\n",
       "      <td>ProductDev</td>\n",
       "      <td>Association</td>\n",
       "      <td>1</td>\n",
       "      <td>0</td>\n",
       "      <td>N</td>\n",
       "      <td>5000</td>\n",
       "      <td>0</td>\n",
       "    </tr>\n",
       "    <tr>\n",
       "      <th>3</th>\n",
       "      <td>10553066</td>\n",
       "      <td>SOUTHSIDE ATHLETIC ASSOCIATION</td>\n",
       "      <td>T3</td>\n",
       "      <td>CompanySponsored</td>\n",
       "      <td>C2000</td>\n",
       "      <td>Preservation</td>\n",
       "      <td>Trust</td>\n",
       "      <td>1</td>\n",
       "      <td>10000-24999</td>\n",
       "      <td>N</td>\n",
       "      <td>6692</td>\n",
       "      <td>1</td>\n",
       "    </tr>\n",
       "    <tr>\n",
       "      <th>4</th>\n",
       "      <td>10556103</td>\n",
       "      <td>GENETIC RESEARCH INSTITUTE OF THE DESERT</td>\n",
       "      <td>T3</td>\n",
       "      <td>Independent</td>\n",
       "      <td>C1000</td>\n",
       "      <td>Heathcare</td>\n",
       "      <td>Trust</td>\n",
       "      <td>1</td>\n",
       "      <td>100000-499999</td>\n",
       "      <td>N</td>\n",
       "      <td>142590</td>\n",
       "      <td>1</td>\n",
       "    </tr>\n",
       "  </tbody>\n",
       "</table>\n",
       "</div>"
      ],
      "text/plain": [
       "        EIN                                      NAME APPLICATION_TYPE  \\\n",
       "0  10520599              BLUE KNIGHTS MOTORCYCLE CLUB              T10   \n",
       "1  10531628    AMERICAN CHESAPEAKE CLUB CHARITABLE TR               T3   \n",
       "2  10547893        ST CLOUD PROFESSIONAL FIREFIGHTERS               T5   \n",
       "3  10553066            SOUTHSIDE ATHLETIC ASSOCIATION               T3   \n",
       "4  10556103  GENETIC RESEARCH INSTITUTE OF THE DESERT               T3   \n",
       "\n",
       "        AFFILIATION CLASSIFICATION      USE_CASE  ORGANIZATION  STATUS  \\\n",
       "0       Independent          C1000    ProductDev   Association       1   \n",
       "1       Independent          C2000  Preservation  Co-operative       1   \n",
       "2  CompanySponsored          C3000    ProductDev   Association       1   \n",
       "3  CompanySponsored          C2000  Preservation         Trust       1   \n",
       "4       Independent          C1000     Heathcare         Trust       1   \n",
       "\n",
       "      INCOME_AMT SPECIAL_CONSIDERATIONS  ASK_AMT  IS_SUCCESSFUL  \n",
       "0              0                      N     5000              1  \n",
       "1         1-9999                      N   108590              1  \n",
       "2              0                      N     5000              0  \n",
       "3    10000-24999                      N     6692              1  \n",
       "4  100000-499999                      N   142590              1  "
      ]
     },
     "execution_count": 1,
     "metadata": {},
     "output_type": "execute_result"
    }
   ],
   "source": [
    "# Import our dependencies\n",
    "from sklearn.model_selection import train_test_split\n",
    "from sklearn.preprocessing import StandardScaler\n",
    "import pandas as pd\n",
    "import tensorflow as tf\n",
    "\n",
    "#  Import and read the charity_data.csv.\n",
    "import pandas as pd \n",
    "application_df = pd.read_csv(\"https://static.bc-edx.com/data/dl-1-2/m21/lms/starter/charity_data.csv\")\n",
    "application_df.head()"
   ]
  },
  {
   "cell_type": "code",
   "execution_count": 2,
   "metadata": {},
   "outputs": [],
   "source": [
    "# Drop the non-beneficial ID columns, 'EIN' and 'NAME'.\n",
    "application_df = application_df.drop([\"EIN\", \"NAME\"], axis=1)"
   ]
  },
  {
   "cell_type": "code",
   "execution_count": 3,
   "metadata": {},
   "outputs": [
    {
     "name": "stdout",
     "output_type": "stream",
     "text": [
      "APPLICATION_TYPE            17\n",
      "AFFILIATION                  6\n",
      "CLASSIFICATION              71\n",
      "USE_CASE                     5\n",
      "ORGANIZATION                 4\n",
      "STATUS                       2\n",
      "INCOME_AMT                   9\n",
      "SPECIAL_CONSIDERATIONS       2\n",
      "ASK_AMT                   8747\n",
      "IS_SUCCESSFUL                2\n",
      "dtype: int64\n"
     ]
    }
   ],
   "source": [
    "# Determine the number of unique values in each column.\n",
    "unique_value_counts = application_df.nunique()\n",
    "\n",
    "print(unique_value_counts)"
   ]
  },
  {
   "cell_type": "code",
   "execution_count": 4,
   "metadata": {},
   "outputs": [
    {
     "name": "stdout",
     "output_type": "stream",
     "text": [
      "T3     27037\n",
      "T4      1542\n",
      "T6      1216\n",
      "T5      1173\n",
      "T19     1065\n",
      "T8       737\n",
      "T7       725\n",
      "T10      528\n",
      "T9       156\n",
      "T13       66\n",
      "T12       27\n",
      "T2        16\n",
      "T25        3\n",
      "T14        3\n",
      "T29        2\n",
      "T15        2\n",
      "T17        1\n",
      "Name: APPLICATION_TYPE, dtype: int64\n"
     ]
    }
   ],
   "source": [
    "# Look at APPLICATION_TYPE value counts for binning\n",
    "application_type_counts = application_df[\"APPLICATION_TYPE\"].value_counts()\n",
    "\n",
    "print(application_type_counts)"
   ]
  },
  {
   "cell_type": "code",
   "execution_count": 5,
   "metadata": {},
   "outputs": [
    {
     "data": {
      "text/plain": [
       "T3       27037\n",
       "T4        1542\n",
       "T6        1216\n",
       "T5        1173\n",
       "T19       1065\n",
       "T8         737\n",
       "T7         725\n",
       "T10        528\n",
       "Other      276\n",
       "Name: APPLICATION_TYPE, dtype: int64"
      ]
     },
     "execution_count": 5,
     "metadata": {},
     "output_type": "execute_result"
    }
   ],
   "source": [
    "# Choose a cutoff value and create a list of application types to be replaced\n",
    "# use the variable name `application_types_to_replace`\n",
    "cutoff_value = 500  # You can adjust this value based on your preference\n",
    "\n",
    "application_type_counts = application_df[\"APPLICATION_TYPE\"].value_counts()\n",
    "\n",
    "application_types_to_replace = list(application_type_counts[application_type_counts < cutoff_value].index)\n",
    "\n",
    "# Replace in dataframe\n",
    "for app in application_types_to_replace:\n",
    "    application_df[\"APPLICATION_TYPE\"] = application_df[\"APPLICATION_TYPE\"].replace(app,\"Other\")\n",
    "\n",
    "# Check to make sure binning was successful\n",
    "application_df[\"APPLICATION_TYPE\"].value_counts()"
   ]
  },
  {
   "cell_type": "code",
   "execution_count": 6,
   "metadata": {},
   "outputs": [
    {
     "name": "stdout",
     "output_type": "stream",
     "text": [
      "C1000    17326\n",
      "C2000     6074\n",
      "C1200     4837\n",
      "C3000     1918\n",
      "C2100     1883\n",
      "         ...  \n",
      "C4120        1\n",
      "C8210        1\n",
      "C2561        1\n",
      "C4500        1\n",
      "C2150        1\n",
      "Name: CLASSIFICATION, Length: 71, dtype: int64\n"
     ]
    }
   ],
   "source": [
    "# Look at CLASSIFICATION value counts for binning\n",
    "classification_counts = application_df[\"CLASSIFICATION\"].value_counts()\n",
    "\n",
    "print(classification_counts)"
   ]
  },
  {
   "cell_type": "code",
   "execution_count": 7,
   "metadata": {},
   "outputs": [
    {
     "name": "stdout",
     "output_type": "stream",
     "text": [
      "C1000    17326\n",
      "C2000     6074\n",
      "C1200     4837\n",
      "C3000     1918\n",
      "C2100     1883\n",
      "C7000      777\n",
      "C1700      287\n",
      "C4000      194\n",
      "C5000      116\n",
      "C1270      114\n",
      "C2700      104\n",
      "C2800       95\n",
      "C7100       75\n",
      "C1300       58\n",
      "C1280       50\n",
      "C1230       36\n",
      "C1400       34\n",
      "C7200       32\n",
      "C2300       32\n",
      "C1240       30\n",
      "C8000       20\n",
      "C7120       18\n",
      "C1500       16\n",
      "C1800       15\n",
      "C6000       15\n",
      "C1250       14\n",
      "C8200       11\n",
      "C1238       10\n",
      "C1278       10\n",
      "C1235        9\n",
      "C1237        9\n",
      "C7210        7\n",
      "C2400        6\n",
      "C1720        6\n",
      "C4100        6\n",
      "C1257        5\n",
      "C1600        5\n",
      "C1260        3\n",
      "C2710        3\n",
      "C0           3\n",
      "C3200        2\n",
      "C1234        2\n",
      "C1246        2\n",
      "C1267        2\n",
      "C1256        2\n",
      "Name: CLASSIFICATION, dtype: int64\n"
     ]
    }
   ],
   "source": [
    "# You may find it helpful to look at CLASSIFICATION value counts >1\n",
    "classification_counts = application_df[\"CLASSIFICATION\"].value_counts()\n",
    "\n",
    "classification_counts_greater_than_1 = classification_counts[classification_counts > 1]\n",
    "\n",
    "print(classification_counts_greater_than_1)"
   ]
  },
  {
   "cell_type": "code",
   "execution_count": 8,
   "metadata": {},
   "outputs": [
    {
     "data": {
      "text/plain": [
       "C1000    17326\n",
       "C2000     6074\n",
       "C1200     4837\n",
       "C3000     1918\n",
       "C2100     1883\n",
       "C7000      777\n",
       "Other      669\n",
       "C1700      287\n",
       "C4000      194\n",
       "C5000      116\n",
       "C1270      114\n",
       "C2700      104\n",
       "Name: CLASSIFICATION, dtype: int64"
      ]
     },
     "execution_count": 8,
     "metadata": {},
     "output_type": "execute_result"
    }
   ],
   "source": [
    "# Choose a cutoff value and create a list of classifications to be replaced\n",
    "# use the variable name `classifications_to_replace`\n",
    "cutoff_value = 100  # You can adjust this value based on your preference\n",
    "\n",
    "classification_counts = application_df[\"CLASSIFICATION\"].value_counts()\n",
    "\n",
    "classifications_to_replace = list(classification_counts[classification_counts < cutoff_value].index)\n",
    "\n",
    "# Replace in dataframe\n",
    "for cls in classifications_to_replace:\n",
    "    application_df[\"CLASSIFICATION\"] = application_df[\"CLASSIFICATION\"].replace(cls,\"Other\")\n",
    "    \n",
    "# Check to make sure binning was successful\n",
    "application_df[\"CLASSIFICATION\"].value_counts()"
   ]
  },
  {
   "cell_type": "code",
   "execution_count": 9,
   "metadata": {},
   "outputs": [
    {
     "name": "stdout",
     "output_type": "stream",
     "text": [
      "   STATUS  ASK_AMT  IS_SUCCESSFUL  APPLICATION_TYPE_Other  \\\n",
      "0       1     5000              1                       0   \n",
      "1       1   108590              1                       0   \n",
      "2       1     5000              0                       0   \n",
      "3       1     6692              1                       0   \n",
      "4       1   142590              1                       0   \n",
      "\n",
      "   APPLICATION_TYPE_T10  APPLICATION_TYPE_T19  APPLICATION_TYPE_T3  \\\n",
      "0                     1                     0                    0   \n",
      "1                     0                     0                    1   \n",
      "2                     0                     0                    0   \n",
      "3                     0                     0                    1   \n",
      "4                     0                     0                    1   \n",
      "\n",
      "   APPLICATION_TYPE_T4  APPLICATION_TYPE_T5  APPLICATION_TYPE_T6  ...  \\\n",
      "0                    0                    0                    0  ...   \n",
      "1                    0                    0                    0  ...   \n",
      "2                    0                    1                    0  ...   \n",
      "3                    0                    0                    0  ...   \n",
      "4                    0                    0                    0  ...   \n",
      "\n",
      "   INCOME_AMT_1-9999  INCOME_AMT_10000-24999  INCOME_AMT_100000-499999  \\\n",
      "0                  0                       0                         0   \n",
      "1                  1                       0                         0   \n",
      "2                  0                       0                         0   \n",
      "3                  0                       1                         0   \n",
      "4                  0                       0                         1   \n",
      "\n",
      "   INCOME_AMT_10M-50M  INCOME_AMT_1M-5M  INCOME_AMT_25000-99999  \\\n",
      "0                   0                 0                       0   \n",
      "1                   0                 0                       0   \n",
      "2                   0                 0                       0   \n",
      "3                   0                 0                       0   \n",
      "4                   0                 0                       0   \n",
      "\n",
      "   INCOME_AMT_50M+  INCOME_AMT_5M-10M  SPECIAL_CONSIDERATIONS_N  \\\n",
      "0                0                  0                         1   \n",
      "1                0                  0                         1   \n",
      "2                0                  0                         1   \n",
      "3                0                  0                         1   \n",
      "4                0                  0                         1   \n",
      "\n",
      "   SPECIAL_CONSIDERATIONS_Y  \n",
      "0                         0  \n",
      "1                         0  \n",
      "2                         0  \n",
      "3                         0  \n",
      "4                         0  \n",
      "\n",
      "[5 rows x 50 columns]\n"
     ]
    }
   ],
   "source": [
    "# Convert categorical data to numeric with `pd.get_dummies`\n",
    "application_df = pd.get_dummies(application_df)\n",
    "\n",
    "print(application_df.head())"
   ]
  },
  {
   "cell_type": "code",
   "execution_count": 10,
   "metadata": {},
   "outputs": [
    {
     "name": "stdout",
     "output_type": "stream",
     "text": [
      "X_train shape: (27439, 49)\n",
      "X_test shape: (6860, 49)\n",
      "y_train shape: (27439,)\n",
      "y_test shape: (6860,)\n"
     ]
    }
   ],
   "source": [
    "# Split our preprocessed data into our features and target arrays\n",
    "X = application_df.drop(columns=[\"IS_SUCCESSFUL\"])\n",
    "y = application_df[\"IS_SUCCESSFUL\"]\n",
    "\n",
    "# Split the preprocessed data into a training and testing dataset\n",
    "X_train, X_test, y_train, y_test = train_test_split(X, y, test_size=0.2, random_state=42)\n",
    "\n",
    "print(\"X_train shape:\", X_train.shape)\n",
    "print(\"X_test shape:\", X_test.shape)\n",
    "print(\"y_train shape:\", y_train.shape)\n",
    "print(\"y_test shape:\", y_test.shape)"
   ]
  },
  {
   "cell_type": "code",
   "execution_count": 11,
   "metadata": {},
   "outputs": [],
   "source": [
    "# Create a StandardScaler instances\n",
    "scaler = StandardScaler()\n",
    "\n",
    "# Fit the StandardScaler\n",
    "X_scaler = scaler.fit(X_train)\n",
    "\n",
    "# Scale the data\n",
    "X_train_scaled = X_scaler.transform(X_train)\n",
    "X_test_scaled = X_scaler.transform(X_test)"
   ]
  },
  {
   "cell_type": "markdown",
   "metadata": {},
   "source": [
    "## Compile, Train and Evaluate the Model"
   ]
  },
  {
   "cell_type": "code",
   "execution_count": 12,
   "metadata": {},
   "outputs": [
    {
     "name": "stdout",
     "output_type": "stream",
     "text": [
      "Model: \"sequential\"\n",
      "_________________________________________________________________\n",
      " Layer (type)                Output Shape              Param #   \n",
      "=================================================================\n",
      " dense (Dense)               (None, 64)                3200      \n",
      "                                                                 \n",
      " dense_1 (Dense)             (None, 32)                2080      \n",
      "                                                                 \n",
      " dense_2 (Dense)             (None, 1)                 33        \n",
      "                                                                 \n",
      "=================================================================\n",
      "Total params: 5313 (20.75 KB)\n",
      "Trainable params: 5313 (20.75 KB)\n",
      "Non-trainable params: 0 (0.00 Byte)\n",
      "_________________________________________________________________\n"
     ]
    }
   ],
   "source": [
    "# Define the model - deep neural net, i.e., the number of input features and hidden nodes for each layer.\n",
    "hidden_layer1_nodes = 64 \n",
    "hidden_layer2_nodes = 32\n",
    "\n",
    "nn = tf.keras.models.Sequential()\n",
    "\n",
    "input_features = X_train.shape[1]\n",
    "\n",
    "# First hidden layer\n",
    "nn.add(tf.keras.layers.Dense(units=hidden_layer1_nodes, activation=\"relu\", input_dim=input_features))\n",
    "\n",
    "# Second hidden layer\n",
    "nn.add(tf.keras.layers.Dense(units=hidden_layer2_nodes, activation=\"relu\"))\n",
    "\n",
    "# Output layer\n",
    "nn.add(tf.keras.layers.Dense(units=1, activation=\"sigmoid\"))\n",
    "\n",
    "# Check the structure of the model\n",
    "nn.summary()"
   ]
  },
  {
   "cell_type": "code",
   "execution_count": 13,
   "metadata": {},
   "outputs": [],
   "source": [
    "# Compile the model\n",
    "nn.compile(loss=\"binary_crossentropy\", optimizer=\"adam\", metrics=[\"accuracy\"])"
   ]
  },
  {
   "cell_type": "code",
   "execution_count": 14,
   "metadata": {},
   "outputs": [
    {
     "name": "stdout",
     "output_type": "stream",
     "text": [
      "Epoch 1/50\n",
      "429/429 [==============================] - 1s 2ms/step - loss: 54305.9648 - accuracy: 0.4949 - val_loss: 20531.3281 - val_accuracy: 0.4659\n",
      "Epoch 2/50\n",
      "429/429 [==============================] - 1s 1ms/step - loss: 13108.8291 - accuracy: 0.4916 - val_loss: 1824.4197 - val_accuracy: 0.5341\n",
      "Epoch 3/50\n",
      "429/429 [==============================] - 0s 1ms/step - loss: 34606.1719 - accuracy: 0.4959 - val_loss: 89350.7188 - val_accuracy: 0.5341\n",
      "Epoch 4/50\n",
      "429/429 [==============================] - 0s 1ms/step - loss: 32246.6133 - accuracy: 0.4884 - val_loss: 58744.7461 - val_accuracy: 0.4659\n",
      "Epoch 5/50\n",
      "429/429 [==============================] - 1s 1ms/step - loss: 21046.2461 - accuracy: 0.5178 - val_loss: 747.1135 - val_accuracy: 0.5086\n",
      "Epoch 6/50\n",
      "429/429 [==============================] - 0s 1ms/step - loss: 28317.9395 - accuracy: 0.5154 - val_loss: 4221.3862 - val_accuracy: 0.4659\n",
      "Epoch 7/50\n",
      "429/429 [==============================] - 0s 1ms/step - loss: 14008.5703 - accuracy: 0.5292 - val_loss: 28061.1211 - val_accuracy: 0.4659\n",
      "Epoch 8/50\n",
      "429/429 [==============================] - 0s 1ms/step - loss: 25152.7285 - accuracy: 0.4879 - val_loss: 26344.1426 - val_accuracy: 0.4659\n",
      "Epoch 9/50\n",
      "429/429 [==============================] - 0s 1ms/step - loss: 13052.7168 - accuracy: 0.5119 - val_loss: 476.4607 - val_accuracy: 0.5341\n",
      "Epoch 10/50\n",
      "429/429 [==============================] - 0s 1ms/step - loss: 4289.7393 - accuracy: 0.5110 - val_loss: 158.3122 - val_accuracy: 0.5222\n",
      "Epoch 11/50\n",
      "429/429 [==============================] - 0s 1ms/step - loss: 8089.0674 - accuracy: 0.5100 - val_loss: 3675.6995 - val_accuracy: 0.4659\n",
      "Epoch 12/50\n",
      "429/429 [==============================] - 0s 1ms/step - loss: 13068.7598 - accuracy: 0.5024 - val_loss: 1230.4678 - val_accuracy: 0.4659\n",
      "Epoch 13/50\n",
      "429/429 [==============================] - 1s 1ms/step - loss: 2019.4515 - accuracy: 0.5074 - val_loss: 4322.9517 - val_accuracy: 0.5341\n",
      "Epoch 14/50\n",
      "429/429 [==============================] - 1s 1ms/step - loss: 1798.8635 - accuracy: 0.5109 - val_loss: 1153.0485 - val_accuracy: 0.6175\n",
      "Epoch 15/50\n",
      "429/429 [==============================] - 1s 1ms/step - loss: 8292.3203 - accuracy: 0.4941 - val_loss: 18365.1777 - val_accuracy: 0.4659\n",
      "Epoch 16/50\n",
      "429/429 [==============================] - 0s 1ms/step - loss: 7917.7173 - accuracy: 0.4972 - val_loss: 2861.0403 - val_accuracy: 0.4659\n",
      "Epoch 17/50\n",
      "429/429 [==============================] - 0s 1ms/step - loss: 4739.5547 - accuracy: 0.4935 - val_loss: 4825.6152 - val_accuracy: 0.4659\n",
      "Epoch 18/50\n",
      "429/429 [==============================] - 0s 1ms/step - loss: 540.7434 - accuracy: 0.5006 - val_loss: 348.2606 - val_accuracy: 0.5054\n",
      "Epoch 19/50\n",
      "429/429 [==============================] - 0s 1ms/step - loss: 2826.4963 - accuracy: 0.5196 - val_loss: 795.3378 - val_accuracy: 0.5341\n",
      "Epoch 20/50\n",
      "429/429 [==============================] - 0s 1ms/step - loss: 2607.0139 - accuracy: 0.4914 - val_loss: 242.5379 - val_accuracy: 0.5032\n",
      "Epoch 21/50\n",
      "429/429 [==============================] - 0s 1ms/step - loss: 6220.5039 - accuracy: 0.5095 - val_loss: 911.6725 - val_accuracy: 0.5341\n",
      "Epoch 22/50\n",
      "429/429 [==============================] - 0s 1ms/step - loss: 4657.4468 - accuracy: 0.4943 - val_loss: 309.8494 - val_accuracy: 0.5341\n",
      "Epoch 23/50\n",
      "429/429 [==============================] - 0s 1ms/step - loss: 2438.7690 - accuracy: 0.5122 - val_loss: 3115.4265 - val_accuracy: 0.4659\n",
      "Epoch 24/50\n",
      "429/429 [==============================] - 0s 1ms/step - loss: 6242.3159 - accuracy: 0.4915 - val_loss: 18007.9453 - val_accuracy: 0.5341\n",
      "Epoch 25/50\n",
      "429/429 [==============================] - 0s 1ms/step - loss: 5491.9004 - accuracy: 0.5117 - val_loss: 387.8732 - val_accuracy: 0.5060\n",
      "Epoch 26/50\n",
      "429/429 [==============================] - 0s 1ms/step - loss: 2454.6611 - accuracy: 0.5250 - val_loss: 689.1702 - val_accuracy: 0.5917\n",
      "Epoch 27/50\n",
      "429/429 [==============================] - 0s 1ms/step - loss: 3006.3643 - accuracy: 0.5065 - val_loss: 295.5606 - val_accuracy: 0.5341\n",
      "Epoch 28/50\n",
      "429/429 [==============================] - 0s 1ms/step - loss: 1793.1567 - accuracy: 0.5362 - val_loss: 776.9057 - val_accuracy: 0.5001\n",
      "Epoch 29/50\n",
      "429/429 [==============================] - 0s 1ms/step - loss: 754.8199 - accuracy: 0.5267 - val_loss: 2878.2073 - val_accuracy: 0.5341\n",
      "Epoch 30/50\n",
      "429/429 [==============================] - 0s 1ms/step - loss: 636.7803 - accuracy: 0.5283 - val_loss: 1896.5756 - val_accuracy: 0.4659\n",
      "Epoch 31/50\n",
      "429/429 [==============================] - 0s 1ms/step - loss: 1053.7253 - accuracy: 0.5355 - val_loss: 34.6528 - val_accuracy: 0.5341\n",
      "Epoch 32/50\n",
      "429/429 [==============================] - 0s 1ms/step - loss: 362.5587 - accuracy: 0.5327 - val_loss: 2117.3887 - val_accuracy: 0.5341\n",
      "Epoch 33/50\n",
      "429/429 [==============================] - 0s 1ms/step - loss: 668.1639 - accuracy: 0.5283 - val_loss: 69.7064 - val_accuracy: 0.5058\n",
      "Epoch 34/50\n",
      "429/429 [==============================] - 0s 1ms/step - loss: 259.2413 - accuracy: 0.5338 - val_loss: 11.4172 - val_accuracy: 0.5176\n",
      "Epoch 35/50\n",
      "429/429 [==============================] - 0s 1ms/step - loss: 31.6464 - accuracy: 0.5486 - val_loss: 170.3181 - val_accuracy: 0.6146\n",
      "Epoch 36/50\n",
      "429/429 [==============================] - 0s 1ms/step - loss: 347.8182 - accuracy: 0.5440 - val_loss: 46.2338 - val_accuracy: 0.5074\n",
      "Epoch 37/50\n",
      "429/429 [==============================] - 0s 1ms/step - loss: 50.3474 - accuracy: 0.5242 - val_loss: 1.8346 - val_accuracy: 0.5341\n",
      "Epoch 38/50\n",
      "429/429 [==============================] - 0s 1ms/step - loss: 5.6783 - accuracy: 0.5788 - val_loss: 0.6452 - val_accuracy: 0.6182\n",
      "Epoch 39/50\n",
      "429/429 [==============================] - 0s 1ms/step - loss: 0.6368 - accuracy: 0.6320 - val_loss: 0.6448 - val_accuracy: 0.6179\n",
      "Epoch 40/50\n",
      "429/429 [==============================] - 0s 1ms/step - loss: 0.6361 - accuracy: 0.6332 - val_loss: 0.6441 - val_accuracy: 0.6198\n",
      "Epoch 41/50\n",
      "429/429 [==============================] - 0s 1ms/step - loss: 0.6349 - accuracy: 0.6370 - val_loss: 0.6425 - val_accuracy: 0.6274\n",
      "Epoch 42/50\n",
      "429/429 [==============================] - 0s 1ms/step - loss: 0.6340 - accuracy: 0.6398 - val_loss: 0.6417 - val_accuracy: 0.6284\n",
      "Epoch 43/50\n",
      "429/429 [==============================] - 0s 1ms/step - loss: 0.6332 - accuracy: 0.6406 - val_loss: 0.6398 - val_accuracy: 0.6316\n",
      "Epoch 44/50\n",
      "429/429 [==============================] - 0s 1ms/step - loss: 0.6321 - accuracy: 0.6428 - val_loss: 0.6401 - val_accuracy: 0.6369\n",
      "Epoch 45/50\n",
      "429/429 [==============================] - 0s 1ms/step - loss: 0.6319 - accuracy: 0.6462 - val_loss: 0.6395 - val_accuracy: 0.6372\n",
      "Epoch 46/50\n",
      "429/429 [==============================] - 0s 1ms/step - loss: 0.6315 - accuracy: 0.6475 - val_loss: 0.6388 - val_accuracy: 0.6389\n",
      "Epoch 47/50\n",
      "429/429 [==============================] - 0s 1ms/step - loss: 0.6309 - accuracy: 0.6481 - val_loss: 0.6399 - val_accuracy: 0.6386\n",
      "Epoch 48/50\n",
      "429/429 [==============================] - 1s 1ms/step - loss: 0.6307 - accuracy: 0.6481 - val_loss: 0.6379 - val_accuracy: 0.6391\n",
      "Epoch 49/50\n",
      "429/429 [==============================] - 1s 1ms/step - loss: 0.6307 - accuracy: 0.6484 - val_loss: 0.6379 - val_accuracy: 0.6373\n",
      "Epoch 50/50\n",
      "429/429 [==============================] - 0s 1ms/step - loss: 0.6303 - accuracy: 0.6482 - val_loss: 0.6385 - val_accuracy: 0.6373\n"
     ]
    },
    {
     "data": {
      "text/plain": [
       "<keras.src.callbacks.History at 0x1958ca7ef50>"
      ]
     },
     "execution_count": 14,
     "metadata": {},
     "output_type": "execute_result"
    }
   ],
   "source": [
    "# Train the model\n",
    "nn.fit(X_train, y_train, epochs=50, batch_size=64, validation_data=(X_test, y_test))"
   ]
  },
  {
   "cell_type": "code",
   "execution_count": 15,
   "metadata": {},
   "outputs": [
    {
     "name": "stdout",
     "output_type": "stream",
     "text": [
      "215/215 - 0s - loss: 2.1972 - accuracy: 0.5338 - 213ms/epoch - 991us/step\n",
      "Loss: 2.197218656539917, Accuracy: 0.5338192582130432\n"
     ]
    }
   ],
   "source": [
    "# Evaluate the model using the test data\n",
    "model_loss, model_accuracy = nn.evaluate(X_test_scaled,y_test,verbose=2)\n",
    "print(f\"Loss: {model_loss}, Accuracy: {model_accuracy}\")"
   ]
  },
  {
   "cell_type": "code",
   "execution_count": 16,
   "metadata": {},
   "outputs": [
    {
     "name": "stderr",
     "output_type": "stream",
     "text": [
      "C:\\Users\\justi\\anaconda3\\lib\\site-packages\\keras\\src\\engine\\training.py:3000: UserWarning: You are saving your model as an HDF5 file via `model.save()`. This file format is considered legacy. We recommend using instead the native Keras format, e.g. `model.save('my_model.keras')`.\n",
      "  saving_api.save_model(\n"
     ]
    }
   ],
   "source": [
    "# Export our model to HDF5 file\n",
    "model_filename = \"model.h5\"  \n",
    "\n",
    "nn.save(model_filename)"
   ]
  },
  {
   "cell_type": "code",
   "execution_count": null,
   "metadata": {},
   "outputs": [],
   "source": []
  }
 ],
 "metadata": {
  "kernelspec": {
   "display_name": "Python 3 (ipykernel)",
   "language": "python",
   "name": "python3"
  },
  "language_info": {
   "codemirror_mode": {
    "name": "ipython",
    "version": 3
   },
   "file_extension": ".py",
   "mimetype": "text/x-python",
   "name": "python",
   "nbconvert_exporter": "python",
   "pygments_lexer": "ipython3",
   "version": "3.10.11"
  },
  "vscode": {
   "interpreter": {
    "hash": "31f2aee4e71d21fbe5cf8b01ff0e069b9275f58929596ceb00d14d90e3e16cd6"
   }
  }
 },
 "nbformat": 4,
 "nbformat_minor": 4
}
